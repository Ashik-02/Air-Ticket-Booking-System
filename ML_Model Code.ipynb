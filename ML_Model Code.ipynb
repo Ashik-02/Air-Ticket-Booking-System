{
 "cells": [
  {
   "cell_type": "code",
   "execution_count": 11,
   "id": "344b0fc6",
   "metadata": {},
   "outputs": [],
   "source": [
    "import pandas as pd\n",
    "import numpy as np\n",
    "import matplotlib.pyplot as plt\n",
    "from sklearn.preprocessing import LabelEncoder\n",
    "import pandas as pd\n",
    "import seaborn as sb\n",
    "from sklearn.linear_model import LinearRegression\n",
    "from sklearn.model_selection import train_test_split\n",
    "from sklearn.metrics import mean_squared_error\n",
    "from sklearn.metrics import r2_score\n",
    "from sklearn.ensemble import GradientBoostingRegressor\n",
    "from sklearn.preprocessing import StandardScaler\n",
    "from sklearn.metrics import mean_absolute_error\n",
    "import joblib\n"
   ]
  },
  {
   "cell_type": "code",
   "execution_count": 12,
   "id": "a53d4b36",
   "metadata": {},
   "outputs": [
    {
     "data": {
      "text/plain": [
       "(2547574, 28)"
      ]
     },
     "execution_count": 12,
     "metadata": {},
     "output_type": "execute_result"
    }
   ],
   "source": [
    "data_set = pd.read_csv(\"20.csv\")\n",
    "data_set.shape"
   ]
  },
  {
   "cell_type": "code",
   "execution_count": 3,
   "id": "062d13ee",
   "metadata": {},
   "outputs": [
    {
     "data": {
      "text/html": [
       "<div>\n",
       "<style scoped>\n",
       "    .dataframe tbody tr th:only-of-type {\n",
       "        vertical-align: middle;\n",
       "    }\n",
       "\n",
       "    .dataframe tbody tr th {\n",
       "        vertical-align: top;\n",
       "    }\n",
       "\n",
       "    .dataframe thead th {\n",
       "        text-align: right;\n",
       "    }\n",
       "</style>\n",
       "<table border=\"1\" class=\"dataframe\">\n",
       "  <thead>\n",
       "    <tr style=\"text-align: right;\">\n",
       "      <th></th>\n",
       "      <th>FL_DATE</th>\n",
       "      <th>OP_CARRIER</th>\n",
       "      <th>OP_CARRIER_FL_NUM</th>\n",
       "      <th>ORIGIN</th>\n",
       "      <th>DEST</th>\n",
       "      <th>CRS_DEP_TIME</th>\n",
       "      <th>DEP_TIME</th>\n",
       "      <th>DEP_DELAY</th>\n",
       "      <th>TAXI_OUT</th>\n",
       "      <th>WHEELS_OFF</th>\n",
       "      <th>...</th>\n",
       "      <th>CRS_ELAPSED_TIME</th>\n",
       "      <th>ACTUAL_ELAPSED_TIME</th>\n",
       "      <th>AIR_TIME</th>\n",
       "      <th>DISTANCE</th>\n",
       "      <th>CARRIER_DELAY</th>\n",
       "      <th>WEATHER_DELAY</th>\n",
       "      <th>NAS_DELAY</th>\n",
       "      <th>SECURITY_DELAY</th>\n",
       "      <th>LATE_AIRCRAFT_DELAY</th>\n",
       "      <th>Unnamed: 27</th>\n",
       "    </tr>\n",
       "  </thead>\n",
       "  <tbody>\n",
       "    <tr>\n",
       "      <th>0</th>\n",
       "      <td>2020-01-01</td>\n",
       "      <td>WN</td>\n",
       "      <td>5888</td>\n",
       "      <td>ONT</td>\n",
       "      <td>SFO</td>\n",
       "      <td>1851.0</td>\n",
       "      <td>41.0</td>\n",
       "      <td>44.0</td>\n",
       "      <td>1935.0</td>\n",
       "      <td>2049.0</td>\n",
       "      <td>...</td>\n",
       "      <td>0.0</td>\n",
       "      <td>33.0</td>\n",
       "      <td>NaN</td>\n",
       "      <td>NaN</td>\n",
       "      <td>NaN</td>\n",
       "      <td>NaN</td>\n",
       "      <td>NaN</td>\n",
       "      <td>NaN</td>\n",
       "      <td>NaN</td>\n",
       "      <td>NaN</td>\n",
       "    </tr>\n",
       "    <tr>\n",
       "      <th>1</th>\n",
       "      <td>2020-01-01</td>\n",
       "      <td>WN</td>\n",
       "      <td>6276</td>\n",
       "      <td>ONT</td>\n",
       "      <td>SFO</td>\n",
       "      <td>1146.0</td>\n",
       "      <td>-4.0</td>\n",
       "      <td>13.0</td>\n",
       "      <td>1159.0</td>\n",
       "      <td>1310.0</td>\n",
       "      <td>...</td>\n",
       "      <td>NaN</td>\n",
       "      <td>NaN</td>\n",
       "      <td>NaN</td>\n",
       "      <td>NaN</td>\n",
       "      <td>NaN</td>\n",
       "      <td>NaN</td>\n",
       "      <td>NaN</td>\n",
       "      <td>NaN</td>\n",
       "      <td>NaN</td>\n",
       "      <td>NaN</td>\n",
       "    </tr>\n",
       "    <tr>\n",
       "      <th>2</th>\n",
       "      <td>2020-01-01</td>\n",
       "      <td>WN</td>\n",
       "      <td>4598</td>\n",
       "      <td>ONT</td>\n",
       "      <td>SJC</td>\n",
       "      <td>2016.0</td>\n",
       "      <td>-4.0</td>\n",
       "      <td>8.0</td>\n",
       "      <td>2024.0</td>\n",
       "      <td>2121.0</td>\n",
       "      <td>...</td>\n",
       "      <td>NaN</td>\n",
       "      <td>NaN</td>\n",
       "      <td>NaN</td>\n",
       "      <td>NaN</td>\n",
       "      <td>NaN</td>\n",
       "      <td>NaN</td>\n",
       "      <td>NaN</td>\n",
       "      <td>NaN</td>\n",
       "      <td>NaN</td>\n",
       "      <td>NaN</td>\n",
       "    </tr>\n",
       "    <tr>\n",
       "      <th>3</th>\n",
       "      <td>2020-01-01</td>\n",
       "      <td>WN</td>\n",
       "      <td>4761</td>\n",
       "      <td>ONT</td>\n",
       "      <td>SJC</td>\n",
       "      <td>1350.0</td>\n",
       "      <td>10.0</td>\n",
       "      <td>10.0</td>\n",
       "      <td>1400.0</td>\n",
       "      <td>1503.0</td>\n",
       "      <td>...</td>\n",
       "      <td>NaN</td>\n",
       "      <td>NaN</td>\n",
       "      <td>NaN</td>\n",
       "      <td>NaN</td>\n",
       "      <td>NaN</td>\n",
       "      <td>NaN</td>\n",
       "      <td>NaN</td>\n",
       "      <td>NaN</td>\n",
       "      <td>NaN</td>\n",
       "      <td>NaN</td>\n",
       "    </tr>\n",
       "    <tr>\n",
       "      <th>4</th>\n",
       "      <td>2020-01-01</td>\n",
       "      <td>WN</td>\n",
       "      <td>5162</td>\n",
       "      <td>ONT</td>\n",
       "      <td>SJC</td>\n",
       "      <td>916.0</td>\n",
       "      <td>1.0</td>\n",
       "      <td>6.0</td>\n",
       "      <td>922.0</td>\n",
       "      <td>1019.0</td>\n",
       "      <td>...</td>\n",
       "      <td>NaN</td>\n",
       "      <td>NaN</td>\n",
       "      <td>NaN</td>\n",
       "      <td>NaN</td>\n",
       "      <td>NaN</td>\n",
       "      <td>NaN</td>\n",
       "      <td>NaN</td>\n",
       "      <td>NaN</td>\n",
       "      <td>NaN</td>\n",
       "      <td>NaN</td>\n",
       "    </tr>\n",
       "  </tbody>\n",
       "</table>\n",
       "<p>5 rows × 28 columns</p>\n",
       "</div>"
      ],
      "text/plain": [
       "      FL_DATE OP_CARRIER  OP_CARRIER_FL_NUM ORIGIN DEST  CRS_DEP_TIME  \\\n",
       "0  2020-01-01         WN               5888    ONT  SFO        1851.0   \n",
       "1  2020-01-01         WN               6276    ONT  SFO        1146.0   \n",
       "2  2020-01-01         WN               4598    ONT  SJC        2016.0   \n",
       "3  2020-01-01         WN               4761    ONT  SJC        1350.0   \n",
       "4  2020-01-01         WN               5162    ONT  SJC         916.0   \n",
       "\n",
       "   DEP_TIME  DEP_DELAY  TAXI_OUT  WHEELS_OFF  ...  CRS_ELAPSED_TIME  \\\n",
       "0      41.0       44.0    1935.0      2049.0  ...               0.0   \n",
       "1      -4.0       13.0    1159.0      1310.0  ...               NaN   \n",
       "2      -4.0        8.0    2024.0      2121.0  ...               NaN   \n",
       "3      10.0       10.0    1400.0      1503.0  ...               NaN   \n",
       "4       1.0        6.0     922.0      1019.0  ...               NaN   \n",
       "\n",
       "   ACTUAL_ELAPSED_TIME  AIR_TIME  DISTANCE  CARRIER_DELAY  WEATHER_DELAY  \\\n",
       "0                 33.0       NaN       NaN            NaN            NaN   \n",
       "1                  NaN       NaN       NaN            NaN            NaN   \n",
       "2                  NaN       NaN       NaN            NaN            NaN   \n",
       "3                  NaN       NaN       NaN            NaN            NaN   \n",
       "4                  NaN       NaN       NaN            NaN            NaN   \n",
       "\n",
       "   NAS_DELAY  SECURITY_DELAY  LATE_AIRCRAFT_DELAY  Unnamed: 27  \n",
       "0        NaN             NaN                  NaN          NaN  \n",
       "1        NaN             NaN                  NaN          NaN  \n",
       "2        NaN             NaN                  NaN          NaN  \n",
       "3        NaN             NaN                  NaN          NaN  \n",
       "4        NaN             NaN                  NaN          NaN  \n",
       "\n",
       "[5 rows x 28 columns]"
      ]
     },
     "execution_count": 3,
     "metadata": {},
     "output_type": "execute_result"
    }
   ],
   "source": [
    "data_set.head(5)"
   ]
  },
  {
   "cell_type": "code",
   "execution_count": 4,
   "id": "08632134",
   "metadata": {},
   "outputs": [
    {
     "data": {
      "text/plain": [
       "0"
      ]
     },
     "execution_count": 4,
     "metadata": {},
     "output_type": "execute_result"
    }
   ],
   "source": [
    "data_set.duplicated().sum()"
   ]
  },
  {
   "cell_type": "code",
   "execution_count": 5,
   "id": "7cc21d54",
   "metadata": {},
   "outputs": [
    {
     "name": "stdout",
     "output_type": "stream",
     "text": [
      "<class 'pandas.core.frame.DataFrame'>\n",
      "RangeIndex: 2547574 entries, 0 to 2547573\n",
      "Data columns (total 28 columns):\n",
      " #   Column               Dtype  \n",
      "---  ------               -----  \n",
      " 0   FL_DATE              object \n",
      " 1   OP_CARRIER           object \n",
      " 2   OP_CARRIER_FL_NUM    int64  \n",
      " 3   ORIGIN               object \n",
      " 4   DEST                 object \n",
      " 5   CRS_DEP_TIME         float64\n",
      " 6   DEP_TIME             float64\n",
      " 7   DEP_DELAY            float64\n",
      " 8   TAXI_OUT             float64\n",
      " 9   WHEELS_OFF           float64\n",
      " 10  WHEELS_ON            float64\n",
      " 11  TAXI_IN              float64\n",
      " 12  CRS_ARR_TIME         float64\n",
      " 13  ARR_TIME             float64\n",
      " 14  ARR_DELAY            float64\n",
      " 15  CANCELLED            float64\n",
      " 16  CANCELLATION_CODE    float64\n",
      " 17  DIVERTED             float64\n",
      " 18  CRS_ELAPSED_TIME     float64\n",
      " 19  ACTUAL_ELAPSED_TIME  float64\n",
      " 20  AIR_TIME             float64\n",
      " 21  DISTANCE             float64\n",
      " 22  CARRIER_DELAY        float64\n",
      " 23  WEATHER_DELAY        float64\n",
      " 24  NAS_DELAY            float64\n",
      " 25  SECURITY_DELAY       float64\n",
      " 26  LATE_AIRCRAFT_DELAY  float64\n",
      " 27  Unnamed: 27          float64\n",
      "dtypes: float64(23), int64(1), object(4)\n",
      "memory usage: 544.2+ MB\n"
     ]
    }
   ],
   "source": [
    "data_set.size\n",
    "data_set.info()"
   ]
  },
  {
   "cell_type": "code",
   "execution_count": 7,
   "id": "7c30d44d",
   "metadata": {},
   "outputs": [
    {
     "data": {
      "text/plain": [
       "ORIGIN          0\n",
       "DEST            0\n",
       "CRS_DEP_TIME    0\n",
       "DEP_TIME        0\n",
       "DEP_DELAY       0\n",
       "TAXI_OUT        0\n",
       "WHEELS_OFF      0\n",
       "WHEELS_ON       0\n",
       "TAXI_IN         0\n",
       "CRS_ARR_TIME    0\n",
       "ARR_TIME        0\n",
       "ARR_DELAY       0\n",
       "dtype: int64"
      ]
     },
     "execution_count": 7,
     "metadata": {},
     "output_type": "execute_result"
    }
   ],
   "source": [
    "data_set.isnull().sum()"
   ]
  },
  {
   "cell_type": "code",
   "execution_count": 13,
   "id": "2c044188",
   "metadata": {},
   "outputs": [],
   "source": [
    "data_set=data_set.drop(['CANCELLED','CANCELLATION_CODE','DIVERTED','CRS_ELAPSED_TIME','ACTUAL_ELAPSED_TIME','AIR_TIME','DISTANCE','CARRIER_DELAY','WEATHER_DELAY','NAS_DELAY','SECURITY_DELAY','LATE_AIRCRAFT_DELAY','Unnamed: 27','OP_CARRIER','OP_CARRIER_FL_NUM','FL_DATE'],axis=1)"
   ]
  },
  {
   "cell_type": "code",
   "execution_count": 14,
   "id": "8474e42f",
   "metadata": {},
   "outputs": [],
   "source": [
    "mean_arrival_time = data_set['ARR_TIME'].mean()\n",
    "data_set['ARR_TIME'].fillna(mean_arrival_time, inplace=True)\n",
    "mean_arrival_timei = data_set['WHEELS_ON'].mean()\n",
    "data_set['WHEELS_ON'].fillna(mean_arrival_timei, inplace=True)\n",
    "#data_set.fillna(data_set.mean(), inplace=True)\n"
   ]
  },
  {
   "cell_type": "code",
   "execution_count": 15,
   "id": "166a33c0",
   "metadata": {},
   "outputs": [
    {
     "data": {
      "text/html": [
       "<div>\n",
       "<style scoped>\n",
       "    .dataframe tbody tr th:only-of-type {\n",
       "        vertical-align: middle;\n",
       "    }\n",
       "\n",
       "    .dataframe tbody tr th {\n",
       "        vertical-align: top;\n",
       "    }\n",
       "\n",
       "    .dataframe thead th {\n",
       "        text-align: right;\n",
       "    }\n",
       "</style>\n",
       "<table border=\"1\" class=\"dataframe\">\n",
       "  <thead>\n",
       "    <tr style=\"text-align: right;\">\n",
       "      <th></th>\n",
       "      <th>ORIGIN</th>\n",
       "      <th>DEST</th>\n",
       "      <th>CRS_DEP_TIME</th>\n",
       "      <th>DEP_TIME</th>\n",
       "      <th>DEP_DELAY</th>\n",
       "      <th>TAXI_OUT</th>\n",
       "      <th>WHEELS_OFF</th>\n",
       "      <th>WHEELS_ON</th>\n",
       "      <th>TAXI_IN</th>\n",
       "      <th>CRS_ARR_TIME</th>\n",
       "      <th>ARR_TIME</th>\n",
       "      <th>ARR_DELAY</th>\n",
       "    </tr>\n",
       "  </thead>\n",
       "  <tbody>\n",
       "    <tr>\n",
       "      <th>0</th>\n",
       "      <td>247</td>\n",
       "      <td>310</td>\n",
       "      <td>1851.0</td>\n",
       "      <td>41.0</td>\n",
       "      <td>44.0</td>\n",
       "      <td>1935.0</td>\n",
       "      <td>2049.0</td>\n",
       "      <td>4.0</td>\n",
       "      <td>2053.0</td>\n",
       "      <td>68.0</td>\n",
       "      <td>74.0</td>\n",
       "      <td>363.0</td>\n",
       "    </tr>\n",
       "    <tr>\n",
       "      <th>1</th>\n",
       "      <td>247</td>\n",
       "      <td>310</td>\n",
       "      <td>1146.0</td>\n",
       "      <td>-4.0</td>\n",
       "      <td>13.0</td>\n",
       "      <td>1159.0</td>\n",
       "      <td>1310.0</td>\n",
       "      <td>8.0</td>\n",
       "      <td>1318.0</td>\n",
       "      <td>-2.0</td>\n",
       "      <td>71.0</td>\n",
       "      <td>363.0</td>\n",
       "    </tr>\n",
       "    <tr>\n",
       "      <th>2</th>\n",
       "      <td>247</td>\n",
       "      <td>317</td>\n",
       "      <td>2016.0</td>\n",
       "      <td>-4.0</td>\n",
       "      <td>8.0</td>\n",
       "      <td>2024.0</td>\n",
       "      <td>2121.0</td>\n",
       "      <td>3.0</td>\n",
       "      <td>2124.0</td>\n",
       "      <td>-6.0</td>\n",
       "      <td>57.0</td>\n",
       "      <td>333.0</td>\n",
       "    </tr>\n",
       "    <tr>\n",
       "      <th>3</th>\n",
       "      <td>247</td>\n",
       "      <td>317</td>\n",
       "      <td>1350.0</td>\n",
       "      <td>10.0</td>\n",
       "      <td>10.0</td>\n",
       "      <td>1400.0</td>\n",
       "      <td>1503.0</td>\n",
       "      <td>2.0</td>\n",
       "      <td>1505.0</td>\n",
       "      <td>10.0</td>\n",
       "      <td>63.0</td>\n",
       "      <td>333.0</td>\n",
       "    </tr>\n",
       "    <tr>\n",
       "      <th>4</th>\n",
       "      <td>247</td>\n",
       "      <td>317</td>\n",
       "      <td>916.0</td>\n",
       "      <td>1.0</td>\n",
       "      <td>6.0</td>\n",
       "      <td>922.0</td>\n",
       "      <td>1019.0</td>\n",
       "      <td>4.0</td>\n",
       "      <td>1023.0</td>\n",
       "      <td>-12.0</td>\n",
       "      <td>57.0</td>\n",
       "      <td>333.0</td>\n",
       "    </tr>\n",
       "  </tbody>\n",
       "</table>\n",
       "</div>"
      ],
      "text/plain": [
       "   ORIGIN  DEST  CRS_DEP_TIME  DEP_TIME  DEP_DELAY  TAXI_OUT  WHEELS_OFF  \\\n",
       "0     247   310        1851.0      41.0       44.0    1935.0      2049.0   \n",
       "1     247   310        1146.0      -4.0       13.0    1159.0      1310.0   \n",
       "2     247   317        2016.0      -4.0        8.0    2024.0      2121.0   \n",
       "3     247   317        1350.0      10.0       10.0    1400.0      1503.0   \n",
       "4     247   317         916.0       1.0        6.0     922.0      1019.0   \n",
       "\n",
       "   WHEELS_ON  TAXI_IN  CRS_ARR_TIME  ARR_TIME  ARR_DELAY  \n",
       "0        4.0   2053.0          68.0      74.0      363.0  \n",
       "1        8.0   1318.0          -2.0      71.0      363.0  \n",
       "2        3.0   2124.0          -6.0      57.0      333.0  \n",
       "3        2.0   1505.0          10.0      63.0      333.0  \n",
       "4        4.0   1023.0         -12.0      57.0      333.0  "
      ]
     },
     "execution_count": 15,
     "metadata": {},
     "output_type": "execute_result"
    }
   ],
   "source": [
    "le = LabelEncoder()\n",
    "data_set['ORIGIN'] = le.fit_transform(data_set['ORIGIN'])\n",
    "data_set['DEST'] = le.fit_transform(data_set['DEST'])\n",
    "data_set.head(5)"
   ]
  },
  {
   "cell_type": "code",
   "execution_count": 16,
   "id": "ceaf03bd",
   "metadata": {},
   "outputs": [
    {
     "data": {
      "text/plain": [
       "(2547574, 12)"
      ]
     },
     "execution_count": 16,
     "metadata": {},
     "output_type": "execute_result"
    }
   ],
   "source": [
    "data_set.shape"
   ]
  },
  {
   "cell_type": "code",
   "execution_count": 17,
   "id": "1f962dc7",
   "metadata": {},
   "outputs": [
    {
     "name": "stdout",
     "output_type": "stream",
     "text": [
      "Top features for target 1: ['ARR_DELAY', 'ARR_TIME', 'ORIGIN', 'DEST', 'WHEELS_ON']\n"
     ]
    },
    {
     "data": {
      "image/png": "[encoded data removed]",
      "text/plain": [
       "<Figure size 1000x500 with 2 Axes>"
      ]
     },
     "metadata": {},
     "output_type": "display_data"
    }
   ],
   "source": [
    "corr_matrix_target1 = data_set.corrwith(data_set['ARR_DELAY'], numeric_only=True)\n",
    "fig, ax = plt.subplots(figsize=(10,5))\n",
    "sb.heatmap(corr_matrix_target1.to_frame(), annot=True, cmap='coolwarm', ax=ax)\n",
    "top_n_features_target1 = corr_matrix_target1.abs().sort_values(ascending=False).head().index.tolist()\n",
    "print(f\"Top features for target 1: {top_n_features_target1}\")"
   ]
  },
  {
   "cell_type": "code",
   "execution_count": 18,
   "id": "9caf3296",
   "metadata": {},
   "outputs": [],
   "source": [
    "\n",
    "features = ['ARR_TIME', 'ORIGIN', 'DEST','WHEELS_ON']\n",
    "target = ['ARR_DELAY']\n",
    "X_train, X_test, y_train, y_test = train_test_split(data_set[features], data_set[target], test_size=0.2, random_state=48)\n"
   ]
  },
  {
   "cell_type": "code",
   "execution_count": 19,
   "id": "014f7c8b",
   "metadata": {},
   "outputs": [
    {
     "name": "stdout",
     "output_type": "stream",
     "text": [
      "Testing Performance Metrics:\n",
      "\n",
      "MSE: 36663.46475307232\n",
      "R2 score: 0.8847340926974491\n",
      "Adjusted R2 score: 0.8847331877816884\n",
      "\n",
      "Training Performance Metrics:\n",
      "\n",
      "MSE: 37076.880952845415\n",
      "R2 score: 0.883695748160966\n",
      "Adjusted R2 score: 0.8836955198956662\n"
     ]
    }
   ],
   "source": [
    "model = GradientBoostingRegressor()\n",
    "model.fit(X_train, y_train.values.ravel())\n",
    "y_pred = model.predict(X_test)\n",
    "\n",
    "mse = mean_squared_error(y_test, y_pred)\n",
    "r2 = r2_score(y_test, y_pred)\n",
    "adj_r2 = 1 - (1 - r2) * ((X_test.shape[0] - 1) / (X_test.shape[0] - X_test.shape[1] - 1))\n",
    "\n",
    "y_predi = model.predict(X_train)\n",
    "msei = mean_squared_error(y_train, y_predi)\n",
    "r2i = r2_score(y_train, y_predi)\n",
    "adj_r2i = 1 - (1 - r2i) * ((X_train.shape[0] - 1) / (X_train.shape[0] - X_train.shape[1] - 1))\n",
    "\n",
    "\n",
    "print(\"Testing Performance Metrics:\\n\")\n",
    "print(f\"MSE: {mse}\")\n",
    "print(f\"R2 score: {r2}\")\n",
    "print(f\"Adjusted R2 score: {adj_r2}\")\n",
    "print(\"\\nTraining Performance Metrics:\\n\")\n",
    "print(f\"MSE: {msei}\")\n",
    "print(f\"R2 score: {r2i}\")\n",
    "print(f\"Adjusted R2 score: {adj_r2i}\") "
   ]
  },
  {
   "cell_type": "code",
   "execution_count": 24,
   "id": "c0f87e8b",
   "metadata": {},
   "outputs": [
    {
     "name": "stdout",
     "output_type": "stream",
     "text": [
      "MAE for testing is : 102.49340785551225\n",
      "MAE for training is : 102.9762447771692\n",
      "Actual ARR_DELAY:\n",
      "         ARR_DELAY\n",
      "741789       651.0\n",
      "1780393      512.0\n",
      "1443745      700.0\n",
      "1428762      118.0\n",
      "57801       1744.0\n",
      "17788        214.0\n",
      "1235605      843.0\n",
      "111718       898.0\n",
      "2047100     2422.0\n",
      "1859512      331.0\n",
      "\n",
      "Predicted ARR_DELAY:\n",
      "[ 656.88181411  438.85306191  830.2366482   127.92248789 1701.75798444\n",
      "  242.49441671  876.26060663  810.66055171 2435.66835011  318.60855784]\n"
     ]
    }
   ],
   "source": [
    " #Print the first 5 actual and predicted arrival delay values\n",
    "mae = mean_absolute_error(y_test, y_pred)\n",
    "print(\"MAE for testing is :\",mae)    \n",
    "maei = mean_absolute_error(y_train, y_predi)\n",
    "print(\"MAE for training is :\",maei)\n",
    "print(\"Actual ARR_DELAY:\")\n",
    "print(y_test[:10])\n",
    "print(\"\\nPredicted ARR_DELAY:\")\n",
    "print(y_pred[:10])\n"
   ]
  },
  {
   "cell_type": "code",
   "execution_count": 25,
   "id": "87bd5fc7",
   "metadata": {},
   "outputs": [],
   "source": [
    "import os\n",
    "import pickle\n",
    "pickle.dump(model,open('/home/ashik/Suyati/model_save','wb'))"
   ]
  }
 ],
 "metadata": {
  "kernelspec": {
   "display_name": "Python 3 (ipykernel)",
   "language": "python",
   "name": "python3"
  },
  "language_info": {
   "codemirror_mode": {
    "name": "ipython",
    "version": 3
   },
   "file_extension": ".py",
   "mimetype": "text/x-python",
   "name": "python",
   "nbconvert_exporter": "python",
   "pygments_lexer": "ipython3",
   "version": "3.10.6"
  }
 },
 "nbformat": 4,
 "nbformat_minor": 5
}
